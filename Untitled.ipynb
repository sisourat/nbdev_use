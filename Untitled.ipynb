{
 "cells": [
  {
   "cell_type": "code",
   "execution_count": null,
   "id": "00cabb2a",
   "metadata": {},
   "outputs": [],
   "source": [
    "from nbdev_use.core import *"
   ]
  },
  {
   "cell_type": "code",
   "execution_count": null,
   "id": "f917d6c3",
   "metadata": {},
   "outputs": [
    {
     "name": "stdout",
     "output_type": "stream",
     "text": [
      "Hello Nico!\n"
     ]
    }
   ],
   "source": [
    "print(say_hello(\"Nico\"))"
   ]
  }
 ],
 "metadata": {
  "kernelspec": {
   "display_name": "Python 3",
   "language": "python",
   "name": "python3"
  }
 },
 "nbformat": 4,
 "nbformat_minor": 5
}
